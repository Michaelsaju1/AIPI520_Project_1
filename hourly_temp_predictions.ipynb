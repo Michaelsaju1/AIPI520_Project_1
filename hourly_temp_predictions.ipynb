{
 "cells": [
  {
   "cell_type": "code",
   "execution_count": 5,
   "id": "9182c790",
   "metadata": {},
   "outputs": [
    {
     "name": "stdout",
     "output_type": "stream",
     "text": [
      "Collecting pandas (from -r requirements.txt (line 1))\n",
      "  Downloading pandas-2.3.2-cp313-cp313-win_amd64.whl.metadata (19 kB)\n",
      "Collecting numpy>=1.26.0 (from pandas->-r requirements.txt (line 1))\n",
      "  Downloading numpy-2.3.3-cp313-cp313-win_amd64.whl.metadata (60 kB)\n",
      "Requirement already satisfied: python-dateutil>=2.8.2 in c:\\users\\micha\\documents\\github\\aipi520_project_1\\.venv\\lib\\site-packages (from pandas->-r requirements.txt (line 1)) (2.9.0.post0)\n",
      "Collecting pytz>=2020.1 (from pandas->-r requirements.txt (line 1))\n",
      "  Downloading pytz-2025.2-py2.py3-none-any.whl.metadata (22 kB)\n",
      "Collecting tzdata>=2022.7 (from pandas->-r requirements.txt (line 1))\n",
      "  Downloading tzdata-2025.2-py2.py3-none-any.whl.metadata (1.4 kB)\n",
      "Requirement already satisfied: six>=1.5 in c:\\users\\micha\\documents\\github\\aipi520_project_1\\.venv\\lib\\site-packages (from python-dateutil>=2.8.2->pandas->-r requirements.txt (line 1)) (1.17.0)\n",
      "Downloading pandas-2.3.2-cp313-cp313-win_amd64.whl (11.0 MB)\n",
      "   ---------------------------------------- 0.0/11.0 MB ? eta -:--:--\n",
      "   ------------ --------------------------- 3.4/11.0 MB 20.8 MB/s eta 0:00:01\n",
      "   ------------------------------------- -- 10.2/11.0 MB 27.0 MB/s eta 0:00:01\n",
      "   ---------------------------------------- 11.0/11.0 MB 26.1 MB/s eta 0:00:00\n",
      "Downloading numpy-2.3.3-cp313-cp313-win_amd64.whl (12.8 MB)\n",
      "   ---------------------------------------- 0.0/12.8 MB ? eta -:--:--\n",
      "   ----------- ---------------------------- 3.7/12.8 MB 17.7 MB/s eta 0:00:01\n",
      "   --------------------------- ------------ 8.9/12.8 MB 22.1 MB/s eta 0:00:01\n",
      "   ---------------------------------------- 12.8/12.8 MB 23.2 MB/s eta 0:00:00\n",
      "Downloading pytz-2025.2-py2.py3-none-any.whl (509 kB)\n",
      "Downloading tzdata-2025.2-py2.py3-none-any.whl (347 kB)\n",
      "Installing collected packages: pytz, tzdata, numpy, pandas\n",
      "\n",
      "   ---------------------------------------- 0/4 [pytz]\n",
      "   ---------- ----------------------------- 1/4 [tzdata]\n",
      "   ---------- ----------------------------- 1/4 [tzdata]\n",
      "   -------------------- ------------------- 2/4 [numpy]\n",
      "   -------------------- ------------------- 2/4 [numpy]\n",
      "   -------------------- ------------------- 2/4 [numpy]\n",
      "   -------------------- ------------------- 2/4 [numpy]\n",
      "   -------------------- ------------------- 2/4 [numpy]\n",
      "   -------------------- ------------------- 2/4 [numpy]\n",
      "   -------------------- ------------------- 2/4 [numpy]\n",
      "   -------------------- ------------------- 2/4 [numpy]\n",
      "   -------------------- ------------------- 2/4 [numpy]\n",
      "   -------------------- ------------------- 2/4 [numpy]\n",
      "   -------------------- ------------------- 2/4 [numpy]\n",
      "   -------------------- ------------------- 2/4 [numpy]\n",
      "   ------------------------------ --------- 3/4 [pandas]\n",
      "   ------------------------------ --------- 3/4 [pandas]\n",
      "   ------------------------------ --------- 3/4 [pandas]\n",
      "   ------------------------------ --------- 3/4 [pandas]\n",
      "   ------------------------------ --------- 3/4 [pandas]\n",
      "   ------------------------------ --------- 3/4 [pandas]\n",
      "   ------------------------------ --------- 3/4 [pandas]\n",
      "   ------------------------------ --------- 3/4 [pandas]\n",
      "   ------------------------------ --------- 3/4 [pandas]\n",
      "   ------------------------------ --------- 3/4 [pandas]\n",
      "   ------------------------------ --------- 3/4 [pandas]\n",
      "   ------------------------------ --------- 3/4 [pandas]\n",
      "   ------------------------------ --------- 3/4 [pandas]\n",
      "   ------------------------------ --------- 3/4 [pandas]\n",
      "   ------------------------------ --------- 3/4 [pandas]\n",
      "   ------------------------------ --------- 3/4 [pandas]\n",
      "   ------------------------------ --------- 3/4 [pandas]\n",
      "   ------------------------------ --------- 3/4 [pandas]\n",
      "   ------------------------------ --------- 3/4 [pandas]\n",
      "   ------------------------------ --------- 3/4 [pandas]\n",
      "   ------------------------------ --------- 3/4 [pandas]\n",
      "   ------------------------------ --------- 3/4 [pandas]\n",
      "   ------------------------------ --------- 3/4 [pandas]\n",
      "   ------------------------------ --------- 3/4 [pandas]\n",
      "   ------------------------------ --------- 3/4 [pandas]\n",
      "   ------------------------------ --------- 3/4 [pandas]\n",
      "   ------------------------------ --------- 3/4 [pandas]\n",
      "   ------------------------------ --------- 3/4 [pandas]\n",
      "   ------------------------------ --------- 3/4 [pandas]\n",
      "   ------------------------------ --------- 3/4 [pandas]\n",
      "   ------------------------------ --------- 3/4 [pandas]\n",
      "   ---------------------------------------- 4/4 [pandas]\n",
      "\n",
      "Successfully installed numpy-2.3.3 pandas-2.3.2 pytz-2025.2 tzdata-2025.2\n"
     ]
    },
    {
     "name": "stderr",
     "output_type": "stream",
     "text": [
      "\n",
      "[notice] A new release of pip is available: 25.1.1 -> 25.2\n",
      "[notice] To update, run: python.exe -m pip install --upgrade pip\n"
     ]
    }
   ],
   "source": [
    "!pip install -r requirements.txt"
   ]
  },
  {
   "cell_type": "code",
   "execution_count": 15,
   "id": "50cd7abc",
   "metadata": {},
   "outputs": [
    {
     "name": "stdout",
     "output_type": "stream",
     "text": [
      "       TAVG TAVG_ATTRIBUTES  TMAX TMAX_ATTRIBUTES  TMIN TMIN_ATTRIBUTES  \\\n",
      "0       NaN             NaN    44             ,,0    29             ,,0   \n",
      "1       NaN             NaN    52             ,,0    25             ,,0   \n",
      "2       NaN             NaN    48             ,,0    27             ,,0   \n",
      "3       NaN             NaN    39             ,,0    33             ,,0   \n",
      "4       NaN             NaN    38             ,,0    30             ,,0   \n",
      "...     ...             ...   ...             ...   ...             ...   \n",
      "16692   NaN             NaN    81             ,,D    55             ,,D   \n",
      "16693   NaN             NaN    80             ,,D    57             ,,D   \n",
      "16694   NaN             NaN    79             ,,D    61             ,,D   \n",
      "16695   NaN             NaN    72             ,,D    62             ,,D   \n",
      "16696   NaN             NaN    74             ,,D    61             ,,D   \n",
      "\n",
      "        TSUN TSUN_ATTRIBUTES  \n",
      "0        6.0             ,,X  \n",
      "1      588.0             ,,X  \n",
      "2      588.0             ,,X  \n",
      "3        0.0             ,,X  \n",
      "4        6.0             ,,X  \n",
      "...      ...             ...  \n",
      "16692    NaN             NaN  \n",
      "16693    NaN             NaN  \n",
      "16694    NaN             NaN  \n",
      "16695    NaN             NaN  \n",
      "16696    NaN             NaN  \n",
      "\n",
      "[16697 rows x 8 columns]\n"
     ]
    },
    {
     "name": "stderr",
     "output_type": "stream",
     "text": [
      "C:\\Users\\Micha\\AppData\\Local\\Temp\\ipykernel_49400\\356605280.py:3: DtypeWarning: Columns (7,9,13,19,21,23,25,27,33,35,37,39,47,49,55,57,59,65,77,79,83,85,87,89,91,93,95,97,99,101,103,105,107,109) have mixed types. Specify dtype option on import or set low_memory=False.\n",
      "  df_full = pd.read_csv(r'C:\\Users\\Micha\\Documents\\GitHub\\AIPI520_Project_1\\4129673.csv')\n"
     ]
    }
   ],
   "source": [
    "import pandas as pd\n",
    "\n",
    "df_full = pd.read_csv(r'C:\\Users\\Micha\\Documents\\GitHub\\AIPI520_Project_1\\4129673.csv')\n",
    "df_full.head(10)\n",
    "df_sub = df_full[[\"TAVG\",\"TAVG_ATTRIBUTES\",\"TMAX\",\"TMAX_ATTRIBUTES\",\"TMIN\",\"TMIN_ATTRIBUTES\",\"TSUN\",\"TSUN_ATTRIBUTES\"]]\n",
    "#df_sub = df_full[df_full['TAVG', 'TMAX', 'TMIN']]\n",
    "print(df_sub)"
   ]
  }
 ],
 "metadata": {
  "kernelspec": {
   "display_name": ".venv",
   "language": "python",
   "name": "python3"
  },
  "language_info": {
   "codemirror_mode": {
    "name": "ipython",
    "version": 3
   },
   "file_extension": ".py",
   "mimetype": "text/x-python",
   "name": "python",
   "nbconvert_exporter": "python",
   "pygments_lexer": "ipython3",
   "version": "3.13.5"
  }
 },
 "nbformat": 4,
 "nbformat_minor": 5
}
